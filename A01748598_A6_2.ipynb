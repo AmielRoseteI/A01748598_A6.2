{
  "nbformat": 4,
  "nbformat_minor": 0,
  "metadata": {
    "colab": {
      "provenance": []
    },
    "kernelspec": {
      "name": "python3",
      "display_name": "Python 3"
    },
    "language_info": {
      "name": "python"
    }
  },
  "cells": [
    {
      "cell_type": "code",
      "source": [
        "from google.colab import drive\n",
        "drive.mount('/content/drive')"
      ],
      "metadata": {
        "colab": {
          "base_uri": "https://localhost:8080/"
        },
        "id": "69BT6DbFFLwh",
        "outputId": "57f8fa5b-da79-4ed9-ae4d-9da9f4ed19d4"
      },
      "execution_count": 1,
      "outputs": [
        {
          "output_type": "stream",
          "name": "stdout",
          "text": [
            "Drive already mounted at /content/drive; to attempt to forcibly remount, call drive.mount(\"/content/drive\", force_remount=True).\n"
          ]
        }
      ]
    },
    {
      "cell_type": "code",
      "execution_count": 2,
      "metadata": {
        "id": "V_3A9MEQBOZI"
      },
      "outputs": [],
      "source": [
        "import unittest\n",
        "import json\n",
        "import os\n",
        "from typing import List, Dict"
      ]
    },
    {
      "cell_type": "code",
      "source": [
        "save_path = '/content/drive/MyDrive/Colab Notebooks/Pruebas de SW y Calidad/Tarea 6.2'\n",
        "os.makedirs(save_path, exist_ok=True)"
      ],
      "metadata": {
        "id": "_b7HDJNLK6T_"
      },
      "execution_count": 3,
      "outputs": []
    },
    {
      "cell_type": "code",
      "source": [
        "test_hotels = os.path.join(save_path, 'hotels.json')\n",
        "test_customers = os.path.join(save_path, 'customers.json')"
      ],
      "metadata": {
        "id": "Q__D9MdVLAca"
      },
      "execution_count": 4,
      "outputs": []
    },
    {
      "cell_type": "code",
      "source": [
        "with open(test_hotels, 'w') as hotel_file:\n",
        "    json.dump([\n",
        "        {\"hotel_id\": 1, \"name\": \"Hotel Mayan\", \"location\": \"Vallarta\", \"rooms\": 2},\n",
        "        {\"hotel_id\": 2, \"name\": \"Hotel HolidayInn\", \"location\": \"Guanajuato\", \"rooms\": 3}\n",
        "    ], hotel_file)\n"
      ],
      "metadata": {
        "id": "TJpWMH5NLG6D"
      },
      "execution_count": 5,
      "outputs": []
    },
    {
      "cell_type": "code",
      "source": [
        "with open(test_customers, 'w') as customer_file:\n",
        "    json.dump([\n",
        "        {\"customer_id\": 1, \"name\": \"Amiel\", \"email\": \"amiel@gmail.com\"},\n",
        "        {\"customer_id\": 2, \"name\": \"Joel\", \"email\": \"joel@hotmail.com\"}\n",
        "    ], customer_file)"
      ],
      "metadata": {
        "id": "yxNynNGZLNPi"
      },
      "execution_count": 6,
      "outputs": []
    },
    {
      "cell_type": "code",
      "source": [
        "class Hotel:\n",
        "    def __init__(self, hotel_id: int, name: str, location: str, rooms: int):\n",
        "        self.hotel_id = hotel_id\n",
        "        self.name = name\n",
        "        self.location = location\n",
        "        self.rooms = rooms\n",
        "        self.reservations = {}\n",
        "\n",
        "    def reserve_room(self, reservation_id: int, customer_id: int) -> bool:\n",
        "        if len(self.reservations) < self.rooms:\n",
        "            self.reservations[reservation_id] = customer_id\n",
        "            return True\n",
        "        return False\n",
        "\n",
        "    def cancel_reservation(self, reservation_id: int) -> bool:\n",
        "        if reservation_id in self.reservations:\n",
        "            del self.reservations[reservation_id]\n",
        "            return True\n",
        "        return False"
      ],
      "metadata": {
        "id": "3O6JuGnJLToI"
      },
      "execution_count": 7,
      "outputs": []
    },
    {
      "cell_type": "code",
      "source": [
        "class Customer:\n",
        "    def __init__(self, customer_id: int, name: str, email: str):\n",
        "        self.customer_id = customer_id\n",
        "        self.name = name\n",
        "        self.email = email"
      ],
      "metadata": {
        "id": "QPzInpYvLXrB"
      },
      "execution_count": 8,
      "outputs": []
    },
    {
      "cell_type": "code",
      "source": [
        "class Reservation:\n",
        "    def __init__(self, reservation_id: int, hotel: Hotel, customer: Customer):\n",
        "        if not isinstance(hotel, Hotel) or not isinstance(customer, Customer):\n",
        "            raise TypeError(\"hotel y customer deben ser instancias válidas de Hotel y Customer\")\n",
        "\n",
        "        self.reservation_id = reservation_id\n",
        "        self.hotel = hotel\n",
        "        self.customer = customer\n",
        "\n",
        "        if not hotel.reserve_room(reservation_id, customer.customer_id):\n",
        "            raise ValueError(\"No rooms available\")\n",
        "\n",
        "    def __str__(self) -> str:\n",
        "        return f\"Reserva {self.reservation_id}: Hotel {self.hotel.name}, Cliente {self.customer.name}\"\n",
        "\n",
        "class TestReservationSystem(unittest.TestCase):\n",
        "    def setUp(self):\n",
        "        self.hotel = Hotel(1, \"Hotel Mayan\", \"Vallarta\", 2)\n",
        "        self.customer1 = Customer(1, \"Amiel\", \"amiel@gmail.com\")\n",
        "        self.customer2 = Customer(2, \"Joel\", \"joel@hotmail.com\")\n",
        "        self.customer3 = Customer(3, \"Rosete\", \"rosete@hotmail.com\")\n",
        "\n",
        "    def test_invalid_instances(self):\n",
        "        with self.assertRaises(TypeError):\n",
        "            Reservation(1, \"InvalidHotel\", self.customer1)\n",
        "        with self.assertRaises(TypeError):\n",
        "            Reservation(1, self.hotel, \"InvalidCustomer\")\n",
        "\n",
        "    def test_reserve_successful(self):\n",
        "        reservation = Reservation(1, self.hotel, self.customer1)\n",
        "        self.assertIn(1, self.hotel.reservations)\n",
        "\n",
        "    def test_reserve_when_full(self):\n",
        "        Reservation(1, self.hotel, self.customer1)\n",
        "        Reservation(2, self.hotel, self.customer2)\n",
        "        with self.assertRaises(ValueError):\n",
        "            Reservation(3, self.hotel, self.customer3)\n",
        "\n",
        "    def test_cancel_reservation_successful(self):\n",
        "        reservation = Reservation(1, self.hotel, self.customer1)\n",
        "        self.assertTrue(self.hotel.cancel_reservation(1))\n",
        "        self.assertNotIn(1, self.hotel.reservations)\n",
        "\n",
        "    def test_cancel_nonexistent_reservation(self):\n",
        "        self.assertFalse(self.hotel.cancel_reservation(99))"
      ],
      "metadata": {
        "id": "8SD1P_aOLZ1T"
      },
      "execution_count": 9,
      "outputs": []
    },
    {
      "cell_type": "code",
      "source": [
        "\n",
        "summary_file = os.path.join(save_path, 'resumen.txt')\n",
        "\n",
        "test_system = TestReservationSystem()\n",
        "test_system.setUp()\n",
        "\n",
        "with open(summary_file, 'w') as resumen_file:\n",
        "    resumen_file.write(\"Resumen actualizado con validaciones de instancias y funcionalidad de reservas:\\n\")\n",
        "    resumen_file.write(f\"Cliente: {test_system.customer1.name} - Email: {test_system.customer1.email}\\n\")\n",
        "    print(f\"Archivos generados en: {save_path}\")"
      ],
      "metadata": {
        "colab": {
          "base_uri": "https://localhost:8080/"
        },
        "id": "i0BBxsnKMhn3",
        "outputId": "02888bd1-3c01-40cf-fb08-42f0a2a8041b"
      },
      "execution_count": 10,
      "outputs": [
        {
          "output_type": "stream",
          "name": "stdout",
          "text": [
            "Archivos generados en: /content/drive/MyDrive/Colab Notebooks/Pruebas de SW y Calidad/Tarea 6.2\n"
          ]
        }
      ]
    },
    {
      "cell_type": "code",
      "source": [
        "if __name__ == \"__main__\":\n",
        "    unittest.main(argv=['first-arg-is-ignored'], exit=False)"
      ],
      "metadata": {
        "colab": {
          "base_uri": "https://localhost:8080/"
        },
        "id": "v_2vP-byPbLC",
        "outputId": "5d74b603-9569-4541-c44c-3f88b540b615"
      },
      "execution_count": 11,
      "outputs": [
        {
          "output_type": "stream",
          "name": "stderr",
          "text": [
            ".....\n",
            "----------------------------------------------------------------------\n",
            "Ran 5 tests in 0.027s\n",
            "\n",
            "OK\n"
          ]
        }
      ]
    },
    {
      "cell_type": "code",
      "source": [
        "pip install flake8"
      ],
      "metadata": {
        "colab": {
          "base_uri": "https://localhost:8080/"
        },
        "id": "qNnMe77XQHkT",
        "outputId": "fcb90c29-e91a-4216-bf94-35f8c5aefd99"
      },
      "execution_count": 12,
      "outputs": [
        {
          "output_type": "stream",
          "name": "stdout",
          "text": [
            "Requirement already satisfied: flake8 in /usr/local/lib/python3.11/dist-packages (7.1.2)\n",
            "Requirement already satisfied: mccabe<0.8.0,>=0.7.0 in /usr/local/lib/python3.11/dist-packages (from flake8) (0.7.0)\n",
            "Requirement already satisfied: pycodestyle<2.13.0,>=2.12.0 in /usr/local/lib/python3.11/dist-packages (from flake8) (2.12.1)\n",
            "Requirement already satisfied: pyflakes<3.3.0,>=3.2.0 in /usr/local/lib/python3.11/dist-packages (from flake8) (3.2.0)\n"
          ]
        }
      ]
    },
    {
      "cell_type": "code",
      "source": [
        "!python \"/content/drive/MyDrive/Colab Notebooks/Pruebas de SW y Calidad/Tarea 6.2/A01748598_A6.2.ipynb\""
      ],
      "metadata": {
        "id": "uR_lesLZQmkZ"
      },
      "execution_count": null,
      "outputs": []
    },
    {
      "cell_type": "code",
      "source": [
        "!flake8 \"/content/drive/MyDrive/Colab Notebooks/Pruebas de SW y Calidad/Tarea 6.2/A01748598_A6.2.ipynb\" \"/content/drive/MyDrive/Colab Notebooks/Pruebas de SW y Calidad/Tarea 6.2/customers.json\" \"/content/drive/MyDrive/Colab Notebooks/Pruebas de SW y Calidad/Tarea 6.2/hotels.json\""
      ],
      "metadata": {
        "id": "paOctT8rRAHn"
      },
      "execution_count": null,
      "outputs": []
    }
  ]
}